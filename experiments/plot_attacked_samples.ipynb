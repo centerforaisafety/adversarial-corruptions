{
 "cells": [
  {
   "cell_type": "code",
   "execution_count": 1,
   "id": "a033a2fc",
   "metadata": {},
   "outputs": [],
   "source": [
    "from PIL import Image\n"
   ]
  },
  {
   "cell_type": "code",
   "execution_count": 2,
   "id": "7a97d531",
   "metadata": {},
   "outputs": [],
   "source": [
    "\n",
    "def stack_images_vertically(image_paths):\n",
    "    # Open the images\n",
    "    images = [Image.open(path) for path in image_paths]\n",
    "\n",
    "    # Determine the new image size\n",
    "    width = max(img.width for img in images)\n",
    "    height = sum(img.height for img in images)\n",
    "\n",
    "    # Create a new empty image with the combined size\n",
    "    stacked_image = Image.new('RGB', (width, height))\n",
    "\n",
    "    # Paste each image onto the stacked image\n",
    "    y_offset = 0\n",
    "    for img in images:\n",
    "        stacked_image.paste(img, (0, y_offset))\n",
    "        y_offset += img.height\n",
    "\n",
    "    return stacked_image"
   ]
  },
  {
   "cell_type": "code",
   "execution_count": 3,
   "id": "0e2257ba",
   "metadata": {},
   "outputs": [],
   "source": [
    "attacks=\"gabor snow pixel jpeg kaleidoscope glitch wood elastic\".split()\n",
    "extra_attacks = \"edge fbm fog hsv klotski mix polkadot prison blur texture whirlpool\".split()"
   ]
  },
  {
   "cell_type": "code",
   "execution_count": 5,
   "id": "098224c4",
   "metadata": {},
   "outputs": [],
   "source": [
    "for attack in attacks + extra_attacks:\n",
    "    image = stack_images_vertically([f'results/attacked_samples/imagenet/{attack}/standard.pt-low.png', \\\n",
    "                                     f'results/attacked_samples/imagenet/{attack}/standard.pt-medium.png', \\\n",
    "                                     f'results/attacked_samples/imagenet/{attack}/standard.pt-high.png'])\n",
    "    image.save(f'results/attacked_samples/imagenet/{attack}.jpg')"
   ]
  },
  {
   "cell_type": "code",
   "execution_count": 6,
   "id": "73fc9179",
   "metadata": {},
   "outputs": [
    {
     "name": "stdout",
     "output_type": "stream",
     "text": [
      "gabor \\includegraphics[width=\\linewidth]{figures/attacked_samples/gabor.jpg}\n",
      "snow \\includegraphics[width=\\linewidth]{figures/attacked_samples/snow.jpg}\n",
      "pixel \\includegraphics[width=\\linewidth]{figures/attacked_samples/pixel.jpg}\n",
      "jpeg \\includegraphics[width=\\linewidth]{figures/attacked_samples/jpeg.jpg}\n",
      "kaleidoscope \\includegraphics[width=\\linewidth]{figures/attacked_samples/kaleidoscope.jpg}\n",
      "glitch \\includegraphics[width=\\linewidth]{figures/attacked_samples/glitch.jpg}\n",
      "wood \\includegraphics[width=\\linewidth]{figures/attacked_samples/wood.jpg}\n",
      "elastic \\includegraphics[width=\\linewidth]{figures/attacked_samples/elastic.jpg}\n",
      "edge \\includegraphics[width=\\linewidth]{figures/attacked_samples/edge.jpg}\n",
      "fbm \\includegraphics[width=\\linewidth]{figures/attacked_samples/fbm.jpg}\n",
      "fog \\includegraphics[width=\\linewidth]{figures/attacked_samples/fog.jpg}\n",
      "hsv \\includegraphics[width=\\linewidth]{figures/attacked_samples/hsv.jpg}\n",
      "klotski \\includegraphics[width=\\linewidth]{figures/attacked_samples/klotski.jpg}\n",
      "mix \\includegraphics[width=\\linewidth]{figures/attacked_samples/mix.jpg}\n",
      "polkadot \\includegraphics[width=\\linewidth]{figures/attacked_samples/polkadot.jpg}\n",
      "prison \\includegraphics[width=\\linewidth]{figures/attacked_samples/prison.jpg}\n",
      "blur \\includegraphics[width=\\linewidth]{figures/attacked_samples/blur.jpg}\n",
      "texture \\includegraphics[width=\\linewidth]{figures/attacked_samples/texture.jpg}\n",
      "whirlpool \\includegraphics[width=\\linewidth]{figures/attacked_samples/whirlpool.jpg}\n"
     ]
    }
   ],
   "source": [
    "for attack in attacks + extra_attacks:\n",
    "    print('''attack_name \\includegraphics[width=\\linewidth]{figures/attacked_samples/attack_name.jpg}'''.replace('attack_name', f'{attack}'))\n",
    " "
   ]
  },
  {
   "cell_type": "code",
   "execution_count": null,
   "id": "691cc632",
   "metadata": {},
   "outputs": [],
   "source": []
  },
  {
   "cell_type": "code",
   "execution_count": null,
   "id": "68b300fe",
   "metadata": {},
   "outputs": [],
   "source": []
  }
 ],
 "metadata": {
  "kernelspec": {
   "display_name": "Python 3 (ipykernel)",
   "language": "python",
   "name": "python3"
  },
  "language_info": {
   "codemirror_mode": {
    "name": "ipython",
    "version": 3
   },
   "file_extension": ".py",
   "mimetype": "text/x-python",
   "name": "python",
   "nbconvert_exporter": "python",
   "pygments_lexer": "ipython3",
   "version": "3.10.9"
  }
 },
 "nbformat": 4,
 "nbformat_minor": 5
}
